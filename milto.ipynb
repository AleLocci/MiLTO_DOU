{
 "cells": [
  {
   "cell_type": "code",
   "execution_count": 25,
   "id": "eeebf7b3-4e00-4146-a300-a978c646f869",
   "metadata": {},
   "outputs": [],
   "source": [
    "from owlready2 import *"
   ]
  },
  {
   "cell_type": "code",
   "execution_count": 27,
   "id": "551c4703-b3c2-499e-ab8c-bce1a69a1d6d",
   "metadata": {},
   "outputs": [
    {
     "data": {
      "text/plain": [
       "[milto51.owx.API,\n",
       " milto51.owx.API_Directory,\n",
       " milto51.owx.API_Libraries,\n",
       " milto51.owx.Activation_Function,\n",
       " milto51.owx.Algorithm,\n",
       " milto51.owx.Build_failure,\n",
       " milto51.owx.Categories_of_Root_Causes,\n",
       " milto51.owx.Categories_of_Symptoms,\n",
       " milto51.owx.Colab,\n",
       " milto51.owx.Components,\n",
       " milto51.owx.Computation_Graph,\n",
       " milto51.owx.Concurrency,\n",
       " milto51.owx.Contrib_Directory,\n",
       " milto51.owx.Contribution,\n",
       " milto51.owx.Conﬁguration_error,\n",
       " milto51.owx.Corner_Case,\n",
       " milto51.owx.Crash,\n",
       " milto51.owx.Dataset_Tensorflow,\n",
       " milto51.owx.Dimension_Mismatch,\n",
       " milto51.owx.Directory_API,\n",
       " milto51.owx.Documentation,\n",
       " milto51.owx.Dopamine,\n",
       " milto51.owx.Ecosystem,\n",
       " milto51.owx.Failure,\n",
       " milto51.owx.Fairness_Indicators,\n",
       " milto51.owx.Framework,\n",
       " milto51.owx.Functional_error,\n",
       " milto51.owx.GPU_Usage,\n",
       " milto51.owx.Google_Cloud_Public_Datasets,\n",
       " milto51.owx.Hang,\n",
       " milto51.owx.Hyperparameters,\n",
       " milto51.owx.Image_Classification,\n",
       " milto51.owx.Inconsistency,\n",
       " milto51.owx.Kaagle_Datasets,\n",
       " milto51.owx.Kaggle_Model,\n",
       " milto51.owx.Keras,\n",
       " milto51.owx.KerasNLP,\n",
       " milto51.owx.Kernel,\n",
       " milto51.owx.Kernel_Directory,\n",
       " milto51.owx.Layer_Properties,\n",
       " milto51.owx.Layers,\n",
       " milto51.owx.Library,\n",
       " milto51.owx.Logic_error,\n",
       " milto51.owx.Loss_Function,\n",
       " milto51.owx.MLIR,\n",
       " milto51.owx.ML_Metadata,\n",
       " milto51.owx.ML_Perf,\n",
       " milto51.owx.Memory,\n",
       " milto51.owx.Missing_Preprocessing,\n",
       " milto51.owx.Missing_Redundant_Wrong_Layer,\n",
       " milto51.owx.Model,\n",
       " milto51.owx.Model_Card_Toolkit,\n",
       " milto51.owx.Model_Garden,\n",
       " milto51.owx.Model_Optimization_Toolkit,\n",
       " milto51.owx.Model_Tensorflow,\n",
       " milto51.owx.Natural_Language_Processing,\n",
       " milto51.owx.NdArray,\n",
       " milto51.owx.Neural_Structured_Learning,\n",
       " milto51.owx.Optimizer,\n",
       " milto51.owx.Performance_degradation,\n",
       " milto51.owx.Platform,\n",
       " milto51.owx.Platform_Directory,\n",
       " milto51.owx.Preprocessing_of_Trainning_Data,\n",
       " milto51.owx.Processing,\n",
       " milto51.owx.Recommendation_systems,\n",
       " milto51.owx.Recommender_System,\n",
       " milto51.owx.Referenced_types_error,\n",
       " milto51.owx.Resources,\n",
       " milto51.owx.Responsible_AI,\n",
       " milto51.owx.Runtime,\n",
       " milto51.owx.Sonnet,\n",
       " milto51.owx.TFX,\n",
       " milto51.owx.TFX-Addons,\n",
       " milto51.owx.TPU_Research_Cloud,\n",
       " milto51.owx.Task,\n",
       " milto51.owx.TensorBoard,\n",
       " milto51.owx.TensorFlow,\n",
       " milto51.owx.TensorFlow.js,\n",
       " milto51.owx.TensorFlow_Addons,\n",
       " milto51.owx.TensorFlow_Agents,\n",
       " milto51.owx.TensorFlow_Compression,\n",
       " milto51.owx.TensorFlow_Data_Validation,\n",
       " milto51.owx.TensorFlow_Decision_Forests,\n",
       " milto51.owx.TensorFlow_Federated,\n",
       " milto51.owx.TensorFlow_GNN,\n",
       " milto51.owx.TensorFlow_Graphics,\n",
       " milto51.owx.TensorFlow_Hub,\n",
       " milto51.owx.TensorFlow_IO,\n",
       " milto51.owx.TensorFlow_JVM,\n",
       " milto51.owx.TensorFlow_Lattice,\n",
       " milto51.owx.TensorFlow_Lite_Micro,\n",
       " milto51.owx.TensorFlow_Lite_Model_Maker,\n",
       " milto51.owx.TensorFlow_Lite_Support,\n",
       " milto51.owx.TensorFlow_Metadata,\n",
       " milto51.owx.TensorFlow_Model_Analysis,\n",
       " milto51.owx.TensorFlow_Model_Remediation,\n",
       " milto51.owx.TensorFlow_Official_Datasets,\n",
       " milto51.owx.TensorFlow_Privacy,\n",
       " milto51.owx.TensorFlow_Probability,\n",
       " milto51.owx.TensorFlow_Quantum,\n",
       " milto51.owx.TensorFlow_Ranking,\n",
       " milto51.owx.TensorFlow_Recommenders,\n",
       " milto51.owx.TensorFlow_Recommenders_Addons,\n",
       " milto51.owx.TensorFlow_Serving,\n",
       " milto51.owx.TensorFlow_Text,\n",
       " milto51.owx.TensorFlow_Transform,\n",
       " milto51.owx.Tensorflow.js_Models,\n",
       " milto51.owx.Tensorflow_Playground,\n",
       " milto51.owx.Test,\n",
       " milto51.owx.Time_Series_Forecasting,\n",
       " milto51.owx.Tool,\n",
       " milto51.owx.Tool_Directory,\n",
       " milto51.owx.Tools,\n",
       " milto51.owx.Trainning,\n",
       " milto51.owx.Trainning_Data,\n",
       " milto51.owx.Trainning_Process,\n",
       " milto51.owx.Type_Confusion,\n",
       " milto51.owx.Version,\n",
       " milto51.owx.Version_Keras,\n",
       " milto51.owx.Visual_Block,\n",
       " milto51.owx.Warning-style_error,\n",
       " milto51.owx.What_If,\n",
       " milto51.owx.Wrong_Input,\n",
       " milto51.owx.Wrong_Input_Format,\n",
       " milto51.owx.Wrong_Preprocessing,\n",
       " milto51.owx.Wrong_Shape_of_Input,\n",
       " milto51.owx.Wrong_Tensor_Shape,\n",
       " milto51.owx.Wrong_Type_of_Input_Data,\n",
       " milto51.owx.XLA,\n",
       " milto51.owx.c,\n",
       " milto51.owx.cc,\n",
       " milto51.owx.core_lib,\n",
       " milto51.owx.core_tpu,\n",
       " milto51.owx.core_util,\n",
       " milto51.owx.examples,\n",
       " milto51.owx.java,\n",
       " milto51.owx.python,\n",
       " milto51.owx.root,\n",
       " milto51.owx.third-party,\n",
       " milto51.owx.tools_git,\n",
       " milto51.owx.tools_pippackage,\n",
       " milto51.owx.Libraries_&_Extensions,\n",
       " milto51.owx.Model_Type_&_Propertes,\n",
       " milto51.owx.Tensors_&_Inputs,\n",
       " Validation.Testing,\n",
       " contrib.seq2seq,\n",
       " core.common_runtime,\n",
       " core.debug,\n",
       " core.distributed_runtime,\n",
       " core.example,\n",
       " core.framework,\n",
       " core.graph,\n",
       " core.grappler,\n",
       " core.kernels,\n",
       " core.ops,\n",
       " core.platform,\n",
       " core.profile,\n",
       " core.protobuf]"
      ]
     },
     "execution_count": 27,
     "metadata": {},
     "output_type": "execute_result"
    }
   ],
   "source": [
    "onto = get_ontology(\"milto51.owx\").load()\n",
    "list(onto.classes())"
   ]
  },
  {
   "cell_type": "code",
   "execution_count": 55,
   "id": "b81510b6-e5aa-4eb6-a951-2047165f4cf2",
   "metadata": {},
   "outputs": [
    {
     "name": "stdout",
     "output_type": "stream",
     "text": [
      "http://purl.org/milto/onto/\n"
     ]
    }
   ],
   "source": [
    "print(onto.base_iri)"
   ]
  },
  {
   "cell_type": "code",
   "execution_count": 57,
   "id": "59d220af-9e9a-4e42-b4b9-2aaa84248161",
   "metadata": {},
   "outputs": [
    {
     "data": {
      "text/plain": [
       "[.milto51.ows, .milto51.ows, .milto51.owl, milto.onto, milto51.owx.API, milto51.owx.API_Directory, milto51.owx.API_Libraries, milto51.owx.Activation_Function, milto51.owx.Algorithm, milto51.owx.Build_failure, milto51.owx.Categories_of_Root_Causes, milto51.owx.Categories_of_Symptoms, milto51.owx.Colab, milto51.owx.Components, milto51.owx.Computation_Graph, milto51.owx.Concurrency, milto51.owx.Contrib_Directory, milto51.owx.Contribution, milto51.owx.Conﬁguration_error, milto51.owx.Corner_Case, milto51.owx.Crash, milto51.owx.Dataset_Tensorflow, milto51.owx.Dimension_Mismatch, milto51.owx.Directory_API, milto51.owx.Documentation, milto51.owx.Dopamine, milto51.owx.Ecosystem, milto51.owx.Failure, milto51.owx.Fairness_Indicators, milto51.owx.Framework, milto51.owx.Functional_error, milto51.owx.GPU_Usage, milto51.owx.Google_Cloud_Public_Datasets, milto51.owx.Hang, milto51.owx.Hyperparameters, milto51.owx.Image_Classification, milto51.owx.Inconsistency, milto51.owx.Kaagle_Datasets, milto51.owx.Kaggle_Model, milto51.owx.Keras, milto51.owx.KerasNLP, milto51.owx.Kernel, milto51.owx.Kernel_Directory, milto51.owx.Layer_Properties, milto51.owx.Layers, milto51.owx.Library, milto51.owx.Logic_error, milto51.owx.Loss_Function, milto51.owx.MLIR, milto51.owx.ML_Metadata, milto51.owx.ML_Perf, milto51.owx.Memory, milto51.owx.Missing_Preprocessing, milto51.owx.Missing_Redundant_Wrong_Layer, milto51.owx.Model, milto51.owx.Model_Card_Toolkit, milto51.owx.Model_Garden, milto51.owx.Model_Optimization_Toolkit, milto51.owx.Model_Tensorflow, milto51.owx.Natural_Language_Processing, milto51.owx.NdArray, milto51.owx.Neural_Structured_Learning, milto51.owx.Optimizer, milto51.owx.Performance_degradation, milto51.owx.Platform, milto51.owx.Platform_Directory, milto51.owx.Preprocessing_of_Trainning_Data, milto51.owx.Processing, milto51.owx.Recommendation_systems, milto51.owx.Recommender_System, milto51.owx.Referenced_types_error, milto51.owx.Resources, milto51.owx.Responsible_AI, milto51.owx.Runtime, milto51.owx.Sonnet, milto51.owx.TFX, milto51.owx.TFX-Addons, milto51.owx.TPU_Research_Cloud, milto51.owx.Task, milto51.owx.TensorBoard, milto51.owx.TensorFlow, milto51.owx.TensorFlow.js, milto51.owx.TensorFlow_Addons, milto51.owx.TensorFlow_Agents, milto51.owx.TensorFlow_Compression, milto51.owx.TensorFlow_Data_Validation, milto51.owx.TensorFlow_Decision_Forests, milto51.owx.TensorFlow_Federated, milto51.owx.TensorFlow_GNN, milto51.owx.TensorFlow_Graphics, milto51.owx.TensorFlow_Hub, milto51.owx.TensorFlow_IO, milto51.owx.TensorFlow_JVM, milto51.owx.TensorFlow_Lattice, milto51.owx.TensorFlow_Lite_Micro, milto51.owx.TensorFlow_Lite_Model_Maker, milto51.owx.TensorFlow_Lite_Support, milto51.owx.TensorFlow_Metadata, milto51.owx.TensorFlow_Model_Analysis, milto51.owx.TensorFlow_Model_Remediation, milto51.owx.TensorFlow_Official_Datasets, milto51.owx.TensorFlow_Privacy, milto51.owx.TensorFlow_Probability, milto51.owx.TensorFlow_Quantum, milto51.owx.TensorFlow_Ranking, milto51.owx.TensorFlow_Recommenders, milto51.owx.TensorFlow_Recommenders_Addons, milto51.owx.TensorFlow_Serving, milto51.owx.TensorFlow_Text, milto51.owx.TensorFlow_Transform, milto51.owx.Tensorflow.js_Models, milto51.owx.Tensorflow_Playground, milto51.owx.Test, milto51.owx.Time_Series_Forecasting, milto51.owx.Tool, milto51.owx.Tool_Directory, milto51.owx.Tools, milto51.owx.Trainning, milto51.owx.Trainning_Data, milto51.owx.Trainning_Process, milto51.owx.Type_Confusion, milto51.owx.Version, milto51.owx.Version_Keras, milto51.owx.Visual_Block, milto51.owx.Warning-style_error, milto51.owx.What_If, milto51.owx.Wrong_Input, milto51.owx.Wrong_Input_Format, milto51.owx.Wrong_Preprocessing, milto51.owx.Wrong_Shape_of_Input, milto51.owx.Wrong_Tensor_Shape, milto51.owx.Wrong_Type_of_Input_Data, milto51.owx.XLA, milto51.owx.c, milto51.owx.cc, milto51.owx.core_lib, milto51.owx.core_tpu, milto51.owx.core_util, milto51.owx.examples, milto51.owx.java, milto51.owx.python, milto51.owx.root, milto51.owx.third-party, milto51.owx.tools_git, milto51.owx.tools_pippackage, milto51.owx.Libraries_&_Extensions, milto51.owx.Model_Type_&_Propertes, milto51.owx.Tensors_&_Inputs, Validation.Testing, contrib.seq2seq, core.common_runtime, core.debug, core.distributed_runtime, core.example, core.framework, core.graph, core.grappler, core.kernels, core.ops, core.platform, core.profile, core.protobuf]"
      ]
     },
     "execution_count": 57,
     "metadata": {},
     "output_type": "execute_result"
    }
   ],
   "source": [
    "onto.search(iri = \"*milto*\")"
   ]
  },
  {
   "cell_type": "code",
   "execution_count": 47,
   "id": "8b0618d3-f55e-46cf-a5f3-a078d777f548",
   "metadata": {},
   "outputs": [
    {
     "ename": "TypeError",
     "evalue": "'NoneType' object is not callable",
     "output_type": "error",
     "traceback": [
      "\u001b[1;31m---------------------------------------------------------------------------\u001b[0m",
      "\u001b[1;31mTypeError\u001b[0m                                 Traceback (most recent call last)",
      "Cell \u001b[1;32mIn[47], line 1\u001b[0m\n\u001b[1;32m----> 1\u001b[0m onto\u001b[38;5;241m.\u001b[39mget_namepace(\u001b[38;5;124m\"\u001b[39m\u001b[38;5;124mhttp://purl.org/milto/onto/\u001b[39m\u001b[38;5;124m\"\u001b[39m)\n",
      "\u001b[1;31mTypeError\u001b[0m: 'NoneType' object is not callable"
     ]
    }
   ],
   "source": [
    "onto.get_namepace(\"http://purl.org/milto/onto/\")"
   ]
  },
  {
   "cell_type": "code",
   "execution_count": 51,
   "id": "f7ecde4b-53ff-45fa-88e5-837f957b1d1c",
   "metadata": {},
   "outputs": [],
   "source": [
    "obo = get_namespace(\"http://purl.org/milto/onto/\")"
   ]
  },
  {
   "cell_type": "code",
   "execution_count": 53,
   "id": "92c21a37-8dda-49a6-bb1b-16dd6a9a9aa1",
   "metadata": {},
   "outputs": [
    {
     "name": "stdout",
     "output_type": "stream",
     "text": [
      "None.get_namespace(\"http://purl.org/milto/onto/\")\n"
     ]
    }
   ],
   "source": [
    "print(obo)"
   ]
  },
  {
   "cell_type": "code",
   "execution_count": null,
   "id": "6167fa50-16df-47aa-a220-1ac19902efaa",
   "metadata": {},
   "outputs": [],
   "source": []
  }
 ],
 "metadata": {
  "kernelspec": {
   "display_name": "Python 3 (ipykernel)",
   "language": "python",
   "name": "python3"
  },
  "language_info": {
   "codemirror_mode": {
    "name": "ipython",
    "version": 3
   },
   "file_extension": ".py",
   "mimetype": "text/x-python",
   "name": "python",
   "nbconvert_exporter": "python",
   "pygments_lexer": "ipython3",
   "version": "3.12.3"
  }
 },
 "nbformat": 4,
 "nbformat_minor": 5
}
